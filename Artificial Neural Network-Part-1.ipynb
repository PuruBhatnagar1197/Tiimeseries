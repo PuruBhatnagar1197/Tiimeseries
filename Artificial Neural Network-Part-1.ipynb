{
 "cells": [
  {
   "cell_type": "markdown",
   "id": "b1098bcc",
   "metadata": {},
   "source": [
    "#### 1. Single perceptron model"
   ]
  },
  {
   "cell_type": "code",
   "execution_count": 8,
   "id": "97192086",
   "metadata": {},
   "outputs": [],
   "source": [
    "### we are trying to predict whethr the flower is sertosa"
   ]
  },
  {
   "cell_type": "code",
   "execution_count": 1,
   "id": "8c722136",
   "metadata": {},
   "outputs": [],
   "source": [
    "import numpy as np\n",
    "import pandas as pd\n",
    "%matplotlib inline\n",
    "import matplotlib as mpl\n",
    "import matplotlib.pyplot as plt\n",
    "import tensorflow as tf\n",
    "from tensorflow import keras\n"
   ]
  },
  {
   "cell_type": "code",
   "execution_count": 2,
   "id": "50bb6a13",
   "metadata": {},
   "outputs": [],
   "source": [
    "from sklearn.datasets import load_iris\n",
    "iris=load_iris()"
   ]
  },
  {
   "cell_type": "code",
   "execution_count": 3,
   "id": "0a29972b",
   "metadata": {},
   "outputs": [
    {
     "data": {
      "text/plain": [
       "array([0, 0, 0, 0, 0, 0, 0, 0, 0, 0, 0, 0, 0, 0, 0, 0, 0, 0, 0, 0, 0, 0,\n",
       "       0, 0, 0, 0, 0, 0, 0, 0, 0, 0, 0, 0, 0, 0, 0, 0, 0, 0, 0, 0, 0, 0,\n",
       "       0, 0, 0, 0, 0, 0, 1, 1, 1, 1, 1, 1, 1, 1, 1, 1, 1, 1, 1, 1, 1, 1,\n",
       "       1, 1, 1, 1, 1, 1, 1, 1, 1, 1, 1, 1, 1, 1, 1, 1, 1, 1, 1, 1, 1, 1,\n",
       "       1, 1, 1, 1, 1, 1, 1, 1, 1, 1, 1, 1, 2, 2, 2, 2, 2, 2, 2, 2, 2, 2,\n",
       "       2, 2, 2, 2, 2, 2, 2, 2, 2, 2, 2, 2, 2, 2, 2, 2, 2, 2, 2, 2, 2, 2,\n",
       "       2, 2, 2, 2, 2, 2, 2, 2, 2, 2, 2, 2, 2, 2, 2, 2, 2, 2])"
      ]
     },
     "execution_count": 3,
     "metadata": {},
     "output_type": "execute_result"
    }
   ],
   "source": [
    "### keeping only columns i.e. petal length,petal width\n",
    "x=iris.data[:,(2,3)]\n",
    "iris.target ### category 0 is sertosa, 1 is versicolor and 2 is virginica"
   ]
  },
  {
   "cell_type": "code",
   "execution_count": 4,
   "id": "c8e6f139",
   "metadata": {},
   "outputs": [
    {
     "name": "stderr",
     "output_type": "stream",
     "text": [
      "C:\\Users\\Admin\\AppData\\Local\\Temp\\ipykernel_9748\\4141192595.py:4: DeprecationWarning: `np.int` is a deprecated alias for the builtin `int`. To silence this warning, use `int` by itself. Doing this will not modify any behavior and is safe. When replacing `np.int`, you may wish to use e.g. `np.int64` or `np.int32` to specify the precision. If you wish to review your current use, check the release note link for additional information.\n",
      "Deprecated in NumPy 1.20; for more details and guidance: https://numpy.org/devdocs/release/1.20.0-notes.html#deprecations\n",
      "  y=y.astype(np.int)\n"
     ]
    },
    {
     "data": {
      "text/plain": [
       "array([1, 1, 1, 1, 1, 1, 1, 1, 1, 1, 1, 1, 1, 1, 1, 1, 1, 1, 1, 1, 1, 1,\n",
       "       1, 1, 1, 1, 1, 1, 1, 1, 1, 1, 1, 1, 1, 1, 1, 1, 1, 1, 1, 1, 1, 1,\n",
       "       1, 1, 1, 1, 1, 1, 0, 0, 0, 0, 0, 0, 0, 0, 0, 0, 0, 0, 0, 0, 0, 0,\n",
       "       0, 0, 0, 0, 0, 0, 0, 0, 0, 0, 0, 0, 0, 0, 0, 0, 0, 0, 0, 0, 0, 0,\n",
       "       0, 0, 0, 0, 0, 0, 0, 0, 0, 0, 0, 0, 0, 0, 0, 0, 0, 0, 0, 0, 0, 0,\n",
       "       0, 0, 0, 0, 0, 0, 0, 0, 0, 0, 0, 0, 0, 0, 0, 0, 0, 0, 0, 0, 0, 0,\n",
       "       0, 0, 0, 0, 0, 0, 0, 0, 0, 0, 0, 0, 0, 0, 0, 0, 0, 0])"
      ]
     },
     "execution_count": 4,
     "metadata": {},
     "output_type": "execute_result"
    }
   ],
   "source": [
    "y=(iris.target==0) ### making in the form of true or false as our target variable for classificaion model\n",
    "y ### but classfication model require in the form of 0 and 1 so,\n",
    "\n",
    "y=y.astype(np.int)\n",
    "y"
   ]
  },
  {
   "cell_type": "code",
   "execution_count": 5,
   "id": "eae41418",
   "metadata": {},
   "outputs": [],
   "source": [
    "from sklearn.linear_model import Perceptron ### using sklearn perceptron"
   ]
  },
  {
   "cell_type": "code",
   "execution_count": 6,
   "id": "4b08e06b",
   "metadata": {},
   "outputs": [
    {
     "data": {
      "text/html": [
       "<style>#sk-container-id-1 {color: black;background-color: white;}#sk-container-id-1 pre{padding: 0;}#sk-container-id-1 div.sk-toggleable {background-color: white;}#sk-container-id-1 label.sk-toggleable__label {cursor: pointer;display: block;width: 100%;margin-bottom: 0;padding: 0.3em;box-sizing: border-box;text-align: center;}#sk-container-id-1 label.sk-toggleable__label-arrow:before {content: \"▸\";float: left;margin-right: 0.25em;color: #696969;}#sk-container-id-1 label.sk-toggleable__label-arrow:hover:before {color: black;}#sk-container-id-1 div.sk-estimator:hover label.sk-toggleable__label-arrow:before {color: black;}#sk-container-id-1 div.sk-toggleable__content {max-height: 0;max-width: 0;overflow: hidden;text-align: left;background-color: #f0f8ff;}#sk-container-id-1 div.sk-toggleable__content pre {margin: 0.2em;color: black;border-radius: 0.25em;background-color: #f0f8ff;}#sk-container-id-1 input.sk-toggleable__control:checked~div.sk-toggleable__content {max-height: 200px;max-width: 100%;overflow: auto;}#sk-container-id-1 input.sk-toggleable__control:checked~label.sk-toggleable__label-arrow:before {content: \"▾\";}#sk-container-id-1 div.sk-estimator input.sk-toggleable__control:checked~label.sk-toggleable__label {background-color: #d4ebff;}#sk-container-id-1 div.sk-label input.sk-toggleable__control:checked~label.sk-toggleable__label {background-color: #d4ebff;}#sk-container-id-1 input.sk-hidden--visually {border: 0;clip: rect(1px 1px 1px 1px);clip: rect(1px, 1px, 1px, 1px);height: 1px;margin: -1px;overflow: hidden;padding: 0;position: absolute;width: 1px;}#sk-container-id-1 div.sk-estimator {font-family: monospace;background-color: #f0f8ff;border: 1px dotted black;border-radius: 0.25em;box-sizing: border-box;margin-bottom: 0.5em;}#sk-container-id-1 div.sk-estimator:hover {background-color: #d4ebff;}#sk-container-id-1 div.sk-parallel-item::after {content: \"\";width: 100%;border-bottom: 1px solid gray;flex-grow: 1;}#sk-container-id-1 div.sk-label:hover label.sk-toggleable__label {background-color: #d4ebff;}#sk-container-id-1 div.sk-serial::before {content: \"\";position: absolute;border-left: 1px solid gray;box-sizing: border-box;top: 0;bottom: 0;left: 50%;z-index: 0;}#sk-container-id-1 div.sk-serial {display: flex;flex-direction: column;align-items: center;background-color: white;padding-right: 0.2em;padding-left: 0.2em;position: relative;}#sk-container-id-1 div.sk-item {position: relative;z-index: 1;}#sk-container-id-1 div.sk-parallel {display: flex;align-items: stretch;justify-content: center;background-color: white;position: relative;}#sk-container-id-1 div.sk-item::before, #sk-container-id-1 div.sk-parallel-item::before {content: \"\";position: absolute;border-left: 1px solid gray;box-sizing: border-box;top: 0;bottom: 0;left: 50%;z-index: -1;}#sk-container-id-1 div.sk-parallel-item {display: flex;flex-direction: column;z-index: 1;position: relative;background-color: white;}#sk-container-id-1 div.sk-parallel-item:first-child::after {align-self: flex-end;width: 50%;}#sk-container-id-1 div.sk-parallel-item:last-child::after {align-self: flex-start;width: 50%;}#sk-container-id-1 div.sk-parallel-item:only-child::after {width: 0;}#sk-container-id-1 div.sk-dashed-wrapped {border: 1px dashed gray;margin: 0 0.4em 0.5em 0.4em;box-sizing: border-box;padding-bottom: 0.4em;background-color: white;}#sk-container-id-1 div.sk-label label {font-family: monospace;font-weight: bold;display: inline-block;line-height: 1.2em;}#sk-container-id-1 div.sk-label-container {text-align: center;}#sk-container-id-1 div.sk-container {/* jupyter's `normalize.less` sets `[hidden] { display: none; }` but bootstrap.min.css set `[hidden] { display: none !important; }` so we also need the `!important` here to be able to override the default hidden behavior on the sphinx rendered scikit-learn.org. See: https://github.com/scikit-learn/scikit-learn/issues/21755 */display: inline-block !important;position: relative;}#sk-container-id-1 div.sk-text-repr-fallback {display: none;}</style><div id=\"sk-container-id-1\" class=\"sk-top-container\"><div class=\"sk-text-repr-fallback\"><pre>Perceptron(random_state=2000)</pre><b>In a Jupyter environment, please rerun this cell to show the HTML representation or trust the notebook. <br />On GitHub, the HTML representation is unable to render, please try loading this page with nbviewer.org.</b></div><div class=\"sk-container\" hidden><div class=\"sk-item\"><div class=\"sk-estimator sk-toggleable\"><input class=\"sk-toggleable__control sk-hidden--visually\" id=\"sk-estimator-id-1\" type=\"checkbox\" checked><label for=\"sk-estimator-id-1\" class=\"sk-toggleable__label sk-toggleable__label-arrow\">Perceptron</label><div class=\"sk-toggleable__content\"><pre>Perceptron(random_state=2000)</pre></div></div></div></div></div>"
      ],
      "text/plain": [
       "Perceptron(random_state=2000)"
      ]
     },
     "execution_count": 6,
     "metadata": {},
     "output_type": "execute_result"
    }
   ],
   "source": [
    "clf=Perceptron(random_state=2000)\n",
    "clf.fit(x,y)"
   ]
  },
  {
   "cell_type": "code",
   "execution_count": 7,
   "id": "d394b3b7",
   "metadata": {},
   "outputs": [
    {
     "data": {
      "text/plain": [
       "array([1, 1, 1, 1, 1, 1, 1, 1, 1, 1, 1, 1, 1, 1, 1, 1, 1, 1, 1, 1, 1, 1,\n",
       "       1, 1, 1, 1, 1, 1, 1, 1, 1, 1, 1, 1, 1, 1, 1, 1, 1, 1, 1, 1, 1, 1,\n",
       "       1, 1, 1, 1, 1, 1, 0, 0, 0, 0, 0, 0, 0, 0, 0, 0, 0, 0, 0, 0, 0, 0,\n",
       "       0, 0, 0, 0, 0, 0, 0, 0, 0, 0, 0, 0, 0, 0, 0, 0, 0, 0, 0, 0, 0, 0,\n",
       "       0, 0, 0, 0, 0, 0, 0, 0, 0, 0, 0, 0, 0, 0, 0, 0, 0, 0, 0, 0, 0, 0,\n",
       "       0, 0, 0, 0, 0, 0, 0, 0, 0, 0, 0, 0, 0, 0, 0, 0, 0, 0, 0, 0, 0, 0,\n",
       "       0, 0, 0, 0, 0, 0, 0, 0, 0, 0, 0, 0, 0, 0, 0, 0, 0, 0])"
      ]
     },
     "execution_count": 7,
     "metadata": {},
     "output_type": "execute_result"
    }
   ],
   "source": [
    "y_pred=clf.predict(x)\n",
    "y_pred"
   ]
  },
  {
   "cell_type": "code",
   "execution_count": 8,
   "id": "a16defbb",
   "metadata": {},
   "outputs": [
    {
     "data": {
      "text/plain": [
       "1.0"
      ]
     },
     "execution_count": 8,
     "metadata": {},
     "output_type": "execute_result"
    }
   ],
   "source": [
    "from sklearn.metrics import accuracy_score\n",
    "accuracy_score(y,y_pred)"
   ]
  },
  {
   "cell_type": "code",
   "execution_count": 9,
   "id": "c76483a1",
   "metadata": {},
   "outputs": [
    {
     "data": {
      "text/plain": [
       "(array([[-1.6, -2.4]]), array([7.]))"
      ]
     },
     "execution_count": 9,
     "metadata": {},
     "output_type": "execute_result"
    }
   ],
   "source": [
    "clf.coef_, clf.intercept_"
   ]
  },
  {
   "cell_type": "markdown",
   "id": "5ab5f60d",
   "metadata": {},
   "source": [
    "#### 2. Using tensor flow and kerar to classify a clothing dataset"
   ]
  },
  {
   "cell_type": "code",
   "execution_count": 10,
   "id": "04d7bd35",
   "metadata": {},
   "outputs": [],
   "source": [
    "fashion_mnist=keras.datasets.fashion_mnist"
   ]
  },
  {
   "cell_type": "code",
   "execution_count": 11,
   "id": "16d163dd",
   "metadata": {},
   "outputs": [],
   "source": [
    "(x_train_full, y_train_full),(x_test,y_test)=fashion_mnist.load_data()"
   ]
  },
  {
   "cell_type": "code",
   "execution_count": 12,
   "id": "2e1b8cb6",
   "metadata": {},
   "outputs": [
    {
     "data": {
      "text/plain": [
       "<matplotlib.image.AxesImage at 0x1f61ce41330>"
      ]
     },
     "execution_count": 12,
     "metadata": {},
     "output_type": "execute_result"
    },
    {
     "data": {
      "image/png": "[encoded data removed]",
      "text/plain": [
       "<Figure size 640x480 with 1 Axes>"
      ]
     },
     "metadata": {},
     "output_type": "display_data"
    }
   ],
   "source": [
    "plt.imshow(x_train_full[3])"
   ]
  },
  {
   "cell_type": "markdown",
   "id": "762fbf95",
   "metadata": {},
   "source": [
    "| Label |\tDescription |\n",
    "--- | --- |\n",
    "| 0\t| T-shirt/top\n",
    "| 1\t| Trouser\n",
    "| 2\t| Pullover\n",
    "| 3\t| Dress\n",
    "| 4\t| Coat\n",
    "| 5\t| Sandal\n",
    "| 6\t| Shirt\n",
    "| 7\t| Sneaker\n",
    "| 8\t| Bag\n",
    "| 9\t| Ankle boot"
   ]
  },
  {
   "cell_type": "code",
   "execution_count": 13,
   "id": "545ebe8c",
   "metadata": {},
   "outputs": [
    {
     "data": {
      "text/plain": [
       "0"
      ]
     },
     "execution_count": 13,
     "metadata": {},
     "output_type": "execute_result"
    }
   ],
   "source": [
    "### the above table shows the category that we have in our test dataset\n",
    "y_train_full[1] ## here 0 output shows its a t-shirt/top"
   ]
  },
  {
   "cell_type": "code",
   "execution_count": 14,
   "id": "a70f69db",
   "metadata": {},
   "outputs": [
    {
     "data": {
      "text/plain": [
       "10"
      ]
     },
     "execution_count": 14,
     "metadata": {},
     "output_type": "execute_result"
    }
   ],
   "source": [
    "### these are all the categories in the train y dataset\n",
    "class_names = [\"T-shirt/top\", \"Trouser\", \"Pullover\", \"Dress\", \"Coat\",\n",
    "               \"Sandal\", \"Shirt\", \"Sneaker\", \"Bag\", \"Ankle boot\"]\n",
    "len(class_names) ### this is the number of neurons required in the output class"
   ]
  },
  {
   "cell_type": "code",
   "execution_count": 15,
   "id": "7b0a88ac",
   "metadata": {},
   "outputs": [
    {
     "data": {
      "text/plain": [
       "array([[  0,   0,   0,   0,   0,   1,   0,   0,   0,   0,  41, 188, 103,\n",
       "         54,  48,  43,  87, 168, 133,  16,   0,   0,   0,   0,   0,   0,\n",
       "          0,   0],\n",
       "       [  0,   0,   0,   1,   0,   0,   0,  49, 136, 219, 216, 228, 236,\n",
       "        255, 255, 255, 255, 217, 215, 254, 231, 160,  45,   0,   0,   0,\n",
       "          0,   0],\n",
       "       [  0,   0,   0,   0,   0,  14, 176, 222, 224, 212, 203, 198, 196,\n",
       "        200, 215, 204, 202, 201, 201, 201, 209, 218, 224, 164,   0,   0,\n",
       "          0,   0],\n",
       "       [  0,   0,   0,   0,   0, 188, 219, 200, 198, 202, 198, 199, 199,\n",
       "        201, 196, 198, 198, 200, 200, 200, 200, 201, 200, 225,  41,   0,\n",
       "          0,   0],\n",
       "       [  0,   0,   0,   0,  51, 219, 199, 203, 203, 212, 238, 248, 250,\n",
       "        245, 249, 246, 247, 252, 248, 235, 207, 203, 203, 222, 140,   0,\n",
       "          0,   0],\n",
       "       [  0,   0,   0,   0, 116, 226, 206, 204, 207, 204, 101,  75,  47,\n",
       "         73,  48,  50,  45,  51,  63, 113, 222, 202, 206, 220, 224,   0,\n",
       "          0,   0],\n",
       "       [  0,   0,   0,   0, 200, 222, 209, 203, 215, 200,   0,  70,  98,\n",
       "          0, 103,  59,  68,  71,  49,   0, 219, 206, 214, 210, 250,  38,\n",
       "          0,   0],\n",
       "       [  0,   0,   0,   0, 247, 218, 212, 210, 215, 214,   0, 254, 243,\n",
       "        139, 255, 174, 251, 255, 205,   0, 215, 217, 214, 208, 220,  95,\n",
       "          0,   0],\n",
       "       [  0,   0,   0,  45, 226, 214, 214, 215, 224, 205,   0,  42,  35,\n",
       "         60,  16,  17,  12,  13,  70,   0, 189, 216, 212, 206, 212, 156,\n",
       "          0,   0],\n",
       "       [  0,   0,   0, 164, 235, 214, 211, 220, 216, 201,  52,  71,  89,\n",
       "         94,  83,  78,  70,  76,  92,  87, 206, 207, 222, 213, 219, 208,\n",
       "          0,   0],\n",
       "       [  0,   0,   0, 106, 187, 223, 237, 248, 211, 198, 252, 250, 248,\n",
       "        245, 248, 252, 253, 250, 252, 239, 201, 212, 225, 215, 193, 113,\n",
       "          0,   0],\n",
       "       [  0,   0,   0,   0,   0,  17,  54, 159, 222, 193, 208, 192, 197,\n",
       "        200, 200, 200, 200, 201, 203, 195, 210, 165,   0,   0,   0,   0,\n",
       "          0,   0],\n",
       "       [  0,   0,   0,   0,   0,   0,   0,  47, 225, 192, 214, 203, 206,\n",
       "        204, 204, 205, 206, 204, 212, 197, 218, 107,   0,   0,   0,   0,\n",
       "          0,   0],\n",
       "       [  0,   0,   0,   0,   1,   6,   0,  46, 212, 195, 212, 202, 206,\n",
       "        205, 204, 205, 206, 204, 212, 200, 218,  91,   0,   3,   1,   0,\n",
       "          0,   0],\n",
       "       [  0,   0,   0,   0,   0,   1,   0,  11, 197, 199, 205, 202, 205,\n",
       "        206, 204, 205, 207, 204, 205, 205, 218,  77,   0,   5,   0,   0,\n",
       "          0,   0],\n",
       "       [  0,   0,   0,   0,   0,   3,   0,   2, 191, 198, 201, 205, 206,\n",
       "        205, 205, 206, 209, 206, 199, 209, 219,  74,   0,   5,   0,   0,\n",
       "          0,   0],\n",
       "       [  0,   0,   0,   0,   0,   2,   0,   0, 188, 197, 200, 207, 207,\n",
       "        204, 207, 207, 210, 208, 198, 207, 221,  72,   0,   4,   0,   0,\n",
       "          0,   0],\n",
       "       [  0,   0,   0,   0,   0,   2,   0,   0, 215, 198, 203, 206, 208,\n",
       "        205, 207, 207, 210, 208, 200, 202, 222,  75,   0,   4,   0,   0,\n",
       "          0,   0],\n",
       "       [  0,   0,   0,   0,   0,   1,   0,   0, 212, 198, 209, 206, 209,\n",
       "        206, 208, 207, 211, 206, 205, 198, 221,  80,   0,   3,   0,   0,\n",
       "          0,   0],\n",
       "       [  0,   0,   0,   0,   0,   1,   0,   0, 204, 201, 205, 208, 207,\n",
       "        205, 211, 205, 210, 210, 209, 195, 221,  96,   0,   3,   0,   0,\n",
       "          0,   0],\n",
       "       [  0,   0,   0,   0,   0,   1,   0,   0, 202, 201, 205, 209, 207,\n",
       "        205, 213, 206, 210, 209, 210, 194, 217, 105,   0,   2,   0,   0,\n",
       "          0,   0],\n",
       "       [  0,   0,   0,   0,   0,   1,   0,   0, 204, 204, 205, 208, 207,\n",
       "        205, 215, 207, 210, 208, 211, 193, 213, 115,   0,   2,   0,   0,\n",
       "          0,   0],\n",
       "       [  0,   0,   0,   0,   0,   0,   0,   0, 204, 207, 207, 208, 206,\n",
       "        206, 215, 210, 210, 207, 212, 195, 210, 118,   0,   2,   0,   0,\n",
       "          0,   0],\n",
       "       [  0,   0,   0,   0,   0,   1,   0,   0, 198, 208, 208, 208, 204,\n",
       "        207, 212, 212, 210, 207, 211, 196, 207, 121,   0,   1,   0,   0,\n",
       "          0,   0],\n",
       "       [  0,   0,   0,   0,   0,   1,   0,   0, 198, 210, 207, 208, 206,\n",
       "        209, 213, 212, 211, 207, 210, 197, 207, 124,   0,   1,   0,   0,\n",
       "          0,   0],\n",
       "       [  0,   0,   0,   0,   0,   0,   0,   0, 172, 210, 203, 201, 199,\n",
       "        204, 207, 205, 204, 201, 205, 197, 206, 127,   0,   0,   0,   0,\n",
       "          0,   0],\n",
       "       [  0,   0,   0,   0,   0,   0,   0,   0, 188, 221, 214, 234, 236,\n",
       "        238, 244, 244, 244, 240, 243, 214, 224, 162,   0,   2,   0,   0,\n",
       "          0,   0],\n",
       "       [  0,   0,   0,   0,   0,   1,   0,   0, 139, 146, 130, 135, 135,\n",
       "        137, 125, 124, 125, 121, 119, 114, 130,  76,   0,   0,   0,   0,\n",
       "          0,   0]], dtype=uint8)"
      ]
     },
     "execution_count": 15,
     "metadata": {},
     "output_type": "execute_result"
    }
   ],
   "source": [
    "x_train_full[1] ## these images are 28*28 pixcel images"
   ]
  },
  {
   "cell_type": "markdown",
   "id": "db8a4b67",
   "metadata": {},
   "source": [
    "#### Next step: Data Normaliation and train and test split"
   ]
  },
  {
   "cell_type": "code",
   "execution_count": 16,
   "id": "ce76fdd5",
   "metadata": {},
   "outputs": [],
   "source": [
    "### we are usning gradient descent so we need to normalize \n",
    "x_train_n=x_train_full/255.0\n",
    "x_test_n=x_test/255.0\n",
    "### here you can observewe are just dividing by largest value of the array not doing standard approach for normalization this is because \n",
    "### here we know what is the max value and the value is overall integer and basically we know the absolute scale of all the array that is it is 255 max value so we can do this \n",
    "### otherwise we have to use that method"
   ]
  },
  {
   "cell_type": "markdown",
   "id": "aaf6cebd",
   "metadata": {},
   "source": [
    "### Split the data into train/validation/test datasets\n",
    "In the earlier step of importing the date, we had 60,000 datasets for training and 10,000 test datasets. Now we further split the training data into train/validation. Here is how each type of dateset is used in deep learning:\n",
    "\n",
    "* __Training data__ — used for training the model\n",
    "* __Validation data__ — used for tuning the hyperparameters and evaluate the models\n",
    "* __Test data__ — used to test the model after the model has gone through initial vetting by the validation set."
   ]
  },
  {
   "cell_type": "code",
   "execution_count": 17,
   "id": "912bf17b",
   "metadata": {},
   "outputs": [],
   "source": [
    "x_valid,x_train=x_train_n[0:5000],x_train_n[5000:]\n",
    "y_valid,y_train=y_train_full[0:5000],y_train_full[5000:]\n",
    "x_test=x_test_n"
   ]
  },
  {
   "cell_type": "markdown",
   "id": "725caefc",
   "metadata": {},
   "source": [
    "### Create the model architecture\n",
    "There are two APIs for defining a model in Keras:\n",
    "* Sequential model API\n",
    "* Functional API"
   ]
  },
  {
   "cell_type": "code",
   "execution_count": 18,
   "id": "7579666e",
   "metadata": {},
   "outputs": [],
   "source": [
    "np.random.seed(42)\n",
    "tf.random.set_seed(42)"
   ]
  },
  {
   "cell_type": "code",
   "execution_count": 19,
   "id": "3b46070a",
   "metadata": {},
   "outputs": [],
   "source": [
    "### we will make sequential model for this classification\n",
    "model=keras.models.Sequential()\n",
    "model.add(keras.layers.Flatten(input_shape=[28,28]))\n",
    "model.add(keras.layers.Dense(300,activation='relu')) ## 300 are the number of neurons\n",
    "model.add(keras.layers.Dense(100,activation='relu')) ## 100 are the number of neurons\n",
    "model.add(keras.layers.Dense(10,activation='softmax')) ## 10 are the number of neurons for each 10 category and this is the o/p layer and we are using softmax function for it\n",
    "### relu whenever the value feeded is less than 0 than it is 0 otherwise the value is equal to the feeded value i.e. x\n",
    "##@ softmax function is used generally as o/p layer and is used for equating all class probability as x"
   ]
  },
  {
   "cell_type": "code",
   "execution_count": 20,
   "id": "71df4a20",
   "metadata": {},
   "outputs": [
    {
     "name": "stdout",
     "output_type": "stream",
     "text": [
      "Model: \"sequential\"\n",
      "_________________________________________________________________\n",
      " Layer (type)                Output Shape              Param #   \n",
      "=================================================================\n",
      " flatten (Flatten)           (None, 784)               0         \n",
      "                                                                 \n",
      " dense (Dense)               (None, 300)               235500    \n",
      "                                                                 \n",
      " dense_1 (Dense)             (None, 100)               30100     \n",
      "                                                                 \n",
      " dense_2 (Dense)             (None, 10)                1010      \n",
      "                                                                 \n",
      "=================================================================\n",
      "Total params: 266,610\n",
      "Trainable params: 266,610\n",
      "Non-trainable params: 0\n",
      "_________________________________________________________________\n"
     ]
    }
   ],
   "source": [
    "model.summary() ## here the parameter for each dense layer is (previous layer input parameter * next layer input parameter + next layer input parameter) i.e. for dense_layer_3 the param # are as 784*300 + 300"
   ]
  },
  {
   "cell_type": "code",
   "execution_count": 22,
   "id": "bb06104b",
   "metadata": {},
   "outputs": [
    {
     "name": "stdout",
     "output_type": "stream",
     "text": [
      "You must install pydot (`pip install pydot`) and install graphviz (see instructions at https://graphviz.gitlab.io/download/) for plot_model to work.\n"
     ]
    }
   ],
   "source": [
    "### to visualize the model\n",
    "import pydot\n",
    "import graphviz\n",
    "keras.utils.plot_model(model) ### have to install graphviz and plotly for proper functioning"
   ]
  },
  {
   "cell_type": "code",
   "execution_count": 31,
   "id": "00b25482",
   "metadata": {},
   "outputs": [
    {
     "name": "stdout",
     "output_type": "stream",
     "text": [
      "(784, 300)\n",
      "(300,)\n"
     ]
    }
   ],
   "source": [
    "### now we will look into the randomly generated weights: as we know intially the weights are randomly geenrated\n",
    "\n",
    "weights, bias=model.layers[1].get_weights() ### get_weight is the method and we hvae to provide the layer number too\n",
    "print(weights.shape) ### its shape is input parameter in the previous layer * the input parameters in this layer\n",
    "print(bias.shape) ### its shape is input parameter of the layer"
   ]
  },
  {
   "cell_type": "markdown",
   "id": "3aa17a7d",
   "metadata": {},
   "source": [
    "#### compiling of the model"
   ]
  },
  {
   "cell_type": "code",
   "execution_count": 32,
   "id": "7e378198",
   "metadata": {},
   "outputs": [],
   "source": [
    "model.compile(loss='sparse_categorical_crossentropy',  ## this is because we are having different labels in the y variable so we have to use sparse; suppose we had y variable as continuous variable we can use categorical entropy and if y variable is binary we can use binary  on complete link is at this location https://keras.io/models/sequential/\n",
    "            optimizer='sgd', ### this is stochastinc gradient descent\n",
    "            metrics=['accuracy']) ## accuracy as our error metrics"
   ]
  },
  {
   "cell_type": "code",
   "execution_count": 34,
   "id": "bc009317",
   "metadata": {},
   "outputs": [
    {
     "name": "stdout",
     "output_type": "stream",
     "text": [
      "Epoch 1/30\n",
      "1719/1719 [==============================] - 8s 5ms/step - loss: 0.2215 - accuracy: 0.9202 - val_loss: 0.2919 - val_accuracy: 0.8944\n",
      "Epoch 2/30\n",
      "1719/1719 [==============================] - 8s 5ms/step - loss: 0.2187 - accuracy: 0.9213 - val_loss: 0.2908 - val_accuracy: 0.8970\n",
      "Epoch 3/30\n",
      "1719/1719 [==============================] - 7s 4ms/step - loss: 0.2148 - accuracy: 0.9223 - val_loss: 0.3814 - val_accuracy: 0.8610\n",
      "Epoch 4/30\n",
      "1719/1719 [==============================] - 8s 5ms/step - loss: 0.2118 - accuracy: 0.9243 - val_loss: 0.2982 - val_accuracy: 0.8934\n",
      "Epoch 5/30\n",
      "1719/1719 [==============================] - 8s 5ms/step - loss: 0.2098 - accuracy: 0.9247 - val_loss: 0.2872 - val_accuracy: 0.8946\n",
      "Epoch 6/30\n",
      "1719/1719 [==============================] - 8s 5ms/step - loss: 0.2042 - accuracy: 0.9271 - val_loss: 0.2960 - val_accuracy: 0.8952\n",
      "Epoch 7/30\n",
      "1719/1719 [==============================] - 8s 5ms/step - loss: 0.2018 - accuracy: 0.9283 - val_loss: 0.2934 - val_accuracy: 0.8970\n",
      "Epoch 8/30\n",
      "1719/1719 [==============================] - 8s 5ms/step - loss: 0.1983 - accuracy: 0.9285 - val_loss: 0.3092 - val_accuracy: 0.8912\n",
      "Epoch 9/30\n",
      "1719/1719 [==============================] - 8s 5ms/step - loss: 0.1955 - accuracy: 0.9299 - val_loss: 0.2990 - val_accuracy: 0.8912\n",
      "Epoch 10/30\n",
      "1719/1719 [==============================] - 8s 5ms/step - loss: 0.1923 - accuracy: 0.9306 - val_loss: 0.2915 - val_accuracy: 0.8948\n",
      "Epoch 11/30\n",
      "1719/1719 [==============================] - 8s 5ms/step - loss: 0.1897 - accuracy: 0.9320 - val_loss: 0.2993 - val_accuracy: 0.8954\n",
      "Epoch 12/30\n",
      "1719/1719 [==============================] - 8s 5ms/step - loss: 0.1854 - accuracy: 0.9333 - val_loss: 0.2979 - val_accuracy: 0.8946\n",
      "Epoch 13/30\n",
      "1719/1719 [==============================] - 8s 5ms/step - loss: 0.1828 - accuracy: 0.9354 - val_loss: 0.2991 - val_accuracy: 0.8952\n",
      "Epoch 14/30\n",
      "1719/1719 [==============================] - 8s 5ms/step - loss: 0.1803 - accuracy: 0.9354 - val_loss: 0.3214 - val_accuracy: 0.8842\n",
      "Epoch 15/30\n",
      "1719/1719 [==============================] - 8s 5ms/step - loss: 0.1767 - accuracy: 0.9374 - val_loss: 0.3028 - val_accuracy: 0.8932\n",
      "Epoch 16/30\n",
      "1719/1719 [==============================] - 8s 5ms/step - loss: 0.1754 - accuracy: 0.9380 - val_loss: 0.2905 - val_accuracy: 0.8944\n",
      "Epoch 17/30\n",
      "1719/1719 [==============================] - 8s 5ms/step - loss: 0.1719 - accuracy: 0.9382 - val_loss: 0.3209 - val_accuracy: 0.8916\n",
      "Epoch 18/30\n",
      "1719/1719 [==============================] - 8s 5ms/step - loss: 0.1692 - accuracy: 0.9400 - val_loss: 0.2900 - val_accuracy: 0.8990\n",
      "Epoch 19/30\n",
      "1719/1719 [==============================] - 8s 5ms/step - loss: 0.1671 - accuracy: 0.9405 - val_loss: 0.2980 - val_accuracy: 0.8970\n",
      "Epoch 20/30\n",
      "1719/1719 [==============================] - 8s 5ms/step - loss: 0.1641 - accuracy: 0.9413 - val_loss: 0.3117 - val_accuracy: 0.8926\n",
      "Epoch 21/30\n",
      "1719/1719 [==============================] - 8s 5ms/step - loss: 0.1618 - accuracy: 0.9422 - val_loss: 0.2920 - val_accuracy: 0.8970\n",
      "Epoch 22/30\n",
      "1719/1719 [==============================] - 8s 5ms/step - loss: 0.1597 - accuracy: 0.9430 - val_loss: 0.3027 - val_accuracy: 0.8976\n",
      "Epoch 23/30\n",
      "1719/1719 [==============================] - 8s 5ms/step - loss: 0.1571 - accuracy: 0.9439 - val_loss: 0.3181 - val_accuracy: 0.8932\n",
      "Epoch 24/30\n",
      "1719/1719 [==============================] - 8s 5ms/step - loss: 0.1539 - accuracy: 0.9450 - val_loss: 0.3012 - val_accuracy: 0.8952\n",
      "Epoch 25/30\n",
      "1719/1719 [==============================] - 8s 5ms/step - loss: 0.1516 - accuracy: 0.9468 - val_loss: 0.2940 - val_accuracy: 0.9016\n",
      "Epoch 26/30\n",
      "1719/1719 [==============================] - 8s 5ms/step - loss: 0.1489 - accuracy: 0.9469 - val_loss: 0.3050 - val_accuracy: 0.8946\n",
      "Epoch 27/30\n",
      "1719/1719 [==============================] - 8s 5ms/step - loss: 0.1463 - accuracy: 0.9491 - val_loss: 0.3017 - val_accuracy: 0.9014\n",
      "Epoch 28/30\n",
      "1719/1719 [==============================] - 8s 5ms/step - loss: 0.1452 - accuracy: 0.9484 - val_loss: 0.2983 - val_accuracy: 0.8950\n",
      "Epoch 29/30\n",
      "1719/1719 [==============================] - 8s 5ms/step - loss: 0.1425 - accuracy: 0.9494 - val_loss: 0.3089 - val_accuracy: 0.8896\n",
      "Epoch 30/30\n",
      "1719/1719 [==============================] - 8s 5ms/step - loss: 0.1405 - accuracy: 0.9500 - val_loss: 0.3090 - val_accuracy: 0.8980\n"
     ]
    }
   ],
   "source": [
    "### one thing to note here is that\n",
    "##1. if you ran this model again it will re start the training fromt the last run of the model.\n",
    "### 2. .fit method has more arguments which includes class weights i.e if in your y variale you have imbalance data i.e one category has more nuber of items than others we can provide weights to classes which have lower number\n",
    "model_history=model.fit(x_train,y_train,epochs=30,validation_data=(x_valid,y_valid))"
   ]
  },
  {
   "cell_type": "code",
   "execution_count": 39,
   "id": "440ce5b0",
   "metadata": {},
   "outputs": [
    {
     "data": {
      "text/plain": [
       "{'verbose': 1, 'epochs': 30, 'steps': 1719}"
      ]
     },
     "execution_count": 39,
     "metadata": {},
     "output_type": "execute_result"
    }
   ],
   "source": [
    "model_history.params"
   ]
  },
  {
   "cell_type": "code",
   "execution_count": 40,
   "id": "9005cd53",
   "metadata": {},
   "outputs": [
    {
     "data": {
      "text/plain": [
       "{'loss': [0.22153659164905548,\n",
       "  0.2186681479215622,\n",
       "  0.21482500433921814,\n",
       "  0.2117903083562851,\n",
       "  0.20975492894649506,\n",
       "  0.20420187711715698,\n",
       "  0.20183712244033813,\n",
       "  0.19827565550804138,\n",
       "  0.19550523161888123,\n",
       "  0.19234511256217957,\n",
       "  0.18965256214141846,\n",
       "  0.18538014590740204,\n",
       "  0.18276672065258026,\n",
       "  0.18029114603996277,\n",
       "  0.17668265104293823,\n",
       "  0.17539364099502563,\n",
       "  0.17187802493572235,\n",
       "  0.16923768818378448,\n",
       "  0.1670844852924347,\n",
       "  0.16411495208740234,\n",
       "  0.1617627888917923,\n",
       "  0.15971098840236664,\n",
       "  0.15707921981811523,\n",
       "  0.15391361713409424,\n",
       "  0.15163138508796692,\n",
       "  0.14893896877765656,\n",
       "  0.14628413319587708,\n",
       "  0.1451771855354309,\n",
       "  0.1425132304430008,\n",
       "  0.14051422476768494],\n",
       " 'accuracy': [0.920199990272522,\n",
       "  0.9212727546691895,\n",
       "  0.9222545623779297,\n",
       "  0.9243454337120056,\n",
       "  0.9246545433998108,\n",
       "  0.9270727038383484,\n",
       "  0.9282727241516113,\n",
       "  0.928490936756134,\n",
       "  0.9299454689025879,\n",
       "  0.9306363463401794,\n",
       "  0.9319999814033508,\n",
       "  0.9332908987998962,\n",
       "  0.9353636503219604,\n",
       "  0.9354181885719299,\n",
       "  0.9374363422393799,\n",
       "  0.9379636645317078,\n",
       "  0.9382363557815552,\n",
       "  0.9400363564491272,\n",
       "  0.9405454397201538,\n",
       "  0.9413272738456726,\n",
       "  0.9422363638877869,\n",
       "  0.9430363774299622,\n",
       "  0.9439272880554199,\n",
       "  0.9449636340141296,\n",
       "  0.9468363523483276,\n",
       "  0.9468545317649841,\n",
       "  0.9490727186203003,\n",
       "  0.9484000205993652,\n",
       "  0.949400007724762,\n",
       "  0.9500181674957275],\n",
       " 'val_loss': [0.2919410467147827,\n",
       "  0.2907848656177521,\n",
       "  0.3814018666744232,\n",
       "  0.2982175648212433,\n",
       "  0.28715354204177856,\n",
       "  0.2960470914840698,\n",
       "  0.2934269905090332,\n",
       "  0.309200257062912,\n",
       "  0.2989852726459503,\n",
       "  0.29145169258117676,\n",
       "  0.29927167296409607,\n",
       "  0.2979460060596466,\n",
       "  0.29910507798194885,\n",
       "  0.3214466869831085,\n",
       "  0.3027627766132355,\n",
       "  0.29047831892967224,\n",
       "  0.3209114670753479,\n",
       "  0.2900337278842926,\n",
       "  0.2979753017425537,\n",
       "  0.31169435381889343,\n",
       "  0.2920319139957428,\n",
       "  0.3026908338069916,\n",
       "  0.31810659170150757,\n",
       "  0.30117282271385193,\n",
       "  0.2939523160457611,\n",
       "  0.3050249218940735,\n",
       "  0.30169206857681274,\n",
       "  0.2983105480670929,\n",
       "  0.30892157554626465,\n",
       "  0.3090350925922394],\n",
       " 'val_accuracy': [0.8944000005722046,\n",
       "  0.8970000147819519,\n",
       "  0.8610000014305115,\n",
       "  0.8934000134468079,\n",
       "  0.894599974155426,\n",
       "  0.8952000141143799,\n",
       "  0.8970000147819519,\n",
       "  0.8912000060081482,\n",
       "  0.8912000060081482,\n",
       "  0.8948000073432922,\n",
       "  0.8953999876976013,\n",
       "  0.894599974155426,\n",
       "  0.8952000141143799,\n",
       "  0.8841999769210815,\n",
       "  0.8931999802589417,\n",
       "  0.8944000005722046,\n",
       "  0.8916000127792358,\n",
       "  0.8989999890327454,\n",
       "  0.8970000147819519,\n",
       "  0.8925999999046326,\n",
       "  0.8970000147819519,\n",
       "  0.897599995136261,\n",
       "  0.8931999802589417,\n",
       "  0.8952000141143799,\n",
       "  0.9016000032424927,\n",
       "  0.894599974155426,\n",
       "  0.9014000296592712,\n",
       "  0.8949999809265137,\n",
       "  0.8895999789237976,\n",
       "  0.8980000019073486]}"
      ]
     },
     "execution_count": 40,
     "metadata": {},
     "output_type": "execute_result"
    }
   ],
   "source": [
    "model_history.history"
   ]
  },
  {
   "cell_type": "code",
   "execution_count": 47,
   "id": "61cd5351",
   "metadata": {},
   "outputs": [
    {
     "data": {
      "image/png": "[encoded data removed]",
      "text/plain": [
       "<Figure size 800x500 with 1 Axes>"
      ]
     },
     "metadata": {},
     "output_type": "display_data"
    }
   ],
   "source": [
    "### to get the loss, accuracy and other plots \n",
    "pd.DataFrame(model_history.history).plot(figsize=(8,5))\n",
    "plt.grid(True)\n",
    "plt.gca().set_ylim(0, 1)\n",
    "plt.show()  "
   ]
  },
  {
   "cell_type": "markdown",
   "id": "bcd0c046",
   "metadata": {},
   "source": [
    "#### predicting and evaluating the model that we have build"
   ]
  },
  {
   "cell_type": "code",
   "execution_count": 48,
   "id": "1d974799",
   "metadata": {},
   "outputs": [
    {
     "name": "stdout",
     "output_type": "stream",
     "text": [
      "313/313 [==============================] - 1s 3ms/step - loss: 0.3459 - accuracy: 0.8890\n"
     ]
    },
    {
     "data": {
      "text/plain": [
       "[0.34591975808143616, 0.8889999985694885]"
      ]
     },
     "execution_count": 48,
     "metadata": {},
     "output_type": "execute_result"
    }
   ],
   "source": [
    "model.evaluate(x_test,y_test) ### output index shows [loss value, metrics selected in compile method as for our case it is accuracy]"
   ]
  },
  {
   "cell_type": "code",
   "execution_count": 52,
   "id": "9a1fb911",
   "metadata": {},
   "outputs": [
    {
     "name": "stdout",
     "output_type": "stream",
     "text": [
      "313/313 [==============================] - 1s 2ms/step\n"
     ]
    },
    {
     "data": {
      "text/plain": [
       "array([[0.  , 0.  , 0.  , ..., 0.01, 0.  , 0.99],\n",
       "       [0.  , 0.  , 1.  , ..., 0.  , 0.  , 0.  ],\n",
       "       [0.  , 1.  , 0.  , ..., 0.  , 0.  , 0.  ],\n",
       "       ...,\n",
       "       [0.  , 0.  , 0.  , ..., 0.  , 1.  , 0.  ],\n",
       "       [0.  , 1.  , 0.  , ..., 0.  , 0.  , 0.  ],\n",
       "       [0.  , 0.  , 0.  , ..., 0.  , 0.  , 0.  ]], dtype=float32)"
      ]
     },
     "execution_count": 52,
     "metadata": {},
     "output_type": "execute_result"
    }
   ],
   "source": [
    "### predicting\n",
    "## 1. predicting probabilities for each class \n",
    "\n",
    "predict_prob=model.predict(x_test)\n",
    "predict_prob.round(2) ### this will give an error for each row in x_test with the probability of each label in the error i.e. for example is row 1 it is for first row the highest probability is for 10th label(index is 9)(0.99) and so on"
   ]
  },
  {
   "cell_type": "code",
   "execution_count": 64,
   "id": "514c8011",
   "metadata": {},
   "outputs": [
    {
     "name": "stdout",
     "output_type": "stream",
     "text": [
      "1/1 [==============================] - 0s 85ms/step\n"
     ]
    },
    {
     "data": {
      "text/plain": [
       "array([1], dtype=int64)"
      ]
     },
     "execution_count": 64,
     "metadata": {},
     "output_type": "execute_result"
    }
   ],
   "source": [
    "### to directly predict classes\n",
    "predict_classes=np.argmax(model.predict(x_test[3]),axis=1) ### checking for one element\n",
    "predict_classes ### so each label of the class came"
   ]
  },
  {
   "cell_type": "code",
   "execution_count": 65,
   "id": "976ae2f4",
   "metadata": {},
   "outputs": [
    {
     "data": {
      "text/plain": [
       "array(['Trouser'], dtype='<U11')"
      ]
     },
     "execution_count": 65,
     "metadata": {},
     "output_type": "execute_result"
    }
   ],
   "source": [
    "### testing\n",
    "np.array(class_names)[predict_classes]"
   ]
  },
  {
   "cell_type": "code",
   "execution_count": 68,
   "id": "4ec0eb08",
   "metadata": {},
   "outputs": [
    {
     "data": {
      "text/plain": [
       "<matplotlib.image.AxesImage at 0x1f6591f8670>"
      ]
     },
     "execution_count": 68,
     "metadata": {},
     "output_type": "execute_result"
    },
    {
     "data": {
      "image/png": "[encoded data removed]",
      "text/plain": [
       "<Figure size 640x480 with 1 Axes>"
      ]
     },
     "metadata": {},
     "output_type": "display_data"
    }
   ],
   "source": [
    "plt.imshow(x_test[3]) ## trouser and predicting also a trouser"
   ]
  },
  {
   "cell_type": "code",
   "execution_count": null,
   "id": "88d3b831",
   "metadata": {},
   "outputs": [],
   "source": []
  },
  {
   "cell_type": "code",
   "execution_count": null,
   "id": "1c1c2785",
   "metadata": {},
   "outputs": [],
   "source": []
  },
  {
   "cell_type": "code",
   "execution_count": null,
   "id": "420669b9",
   "metadata": {},
   "outputs": [],
   "source": []
  },
  {
   "cell_type": "code",
   "execution_count": null,
   "id": "61c12110",
   "metadata": {},
   "outputs": [],
   "source": []
  },
  {
   "cell_type": "code",
   "execution_count": null,
   "id": "55ee977c",
   "metadata": {},
   "outputs": [],
   "source": []
  },
  {
   "cell_type": "code",
   "execution_count": null,
   "id": "136ee32f",
   "metadata": {},
   "outputs": [],
   "source": []
  },
  {
   "cell_type": "code",
   "execution_count": null,
   "id": "afce9068",
   "metadata": {},
   "outputs": [],
   "source": []
  },
  {
   "cell_type": "code",
   "execution_count": null,
   "id": "243f6ae6",
   "metadata": {},
   "outputs": [],
   "source": []
  },
  {
   "cell_type": "code",
   "execution_count": null,
   "id": "1b1e211a",
   "metadata": {},
   "outputs": [],
   "source": []
  }
 ],
 "metadata": {
  "kernelspec": {
   "display_name": "Python 3 (ipykernel)",
   "language": "python",
   "name": "python3"
  },
  "language_info": {
   "codemirror_mode": {
    "name": "ipython",
    "version": 3
   },
   "file_extension": ".py",
   "mimetype": "text/x-python",
   "name": "python",
   "nbconvert_exporter": "python",
   "pygments_lexer": "ipython3",
   "version": "3.10.9"
  }
 },
 "nbformat": 4,
 "nbformat_minor": 5
}
