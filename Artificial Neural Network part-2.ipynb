{
 "cells": [
  {
   "cell_type": "code",
   "execution_count": 1,
   "id": "2389daba",
   "metadata": {},
   "outputs": [],
   "source": [
    "import numpy as np\n",
    "import pandas as pd\n",
    "%matplotlib inline\n",
    "import matplotlib as mpl\n",
    "import matplotlib.pyplot as plt\n",
    "import tensorflow as tf\n",
    "from tensorflow import keras\n"
   ]
  },
  {
   "cell_type": "code",
   "execution_count": 2,
   "id": "26eb680a",
   "metadata": {},
   "outputs": [],
   "source": [
    "from sklearn.datasets import fetch_california_housing\n",
    "housing=fetch_california_housing()"
   ]
  },
  {
   "cell_type": "code",
   "execution_count": 3,
   "id": "d4bfd18f",
   "metadata": {},
   "outputs": [
    {
     "data": {
      "text/plain": [
       "{'data': array([[   8.3252    ,   41.        ,    6.98412698, ...,    2.55555556,\n",
       "           37.88      , -122.23      ],\n",
       "        [   8.3014    ,   21.        ,    6.23813708, ...,    2.10984183,\n",
       "           37.86      , -122.22      ],\n",
       "        [   7.2574    ,   52.        ,    8.28813559, ...,    2.80225989,\n",
       "           37.85      , -122.24      ],\n",
       "        ...,\n",
       "        [   1.7       ,   17.        ,    5.20554273, ...,    2.3256351 ,\n",
       "           39.43      , -121.22      ],\n",
       "        [   1.8672    ,   18.        ,    5.32951289, ...,    2.12320917,\n",
       "           39.43      , -121.32      ],\n",
       "        [   2.3886    ,   16.        ,    5.25471698, ...,    2.61698113,\n",
       "           39.37      , -121.24      ]]),\n",
       " 'target': array([4.526, 3.585, 3.521, ..., 0.923, 0.847, 0.894]),\n",
       " 'frame': None,\n",
       " 'target_names': ['MedHouseVal'],\n",
       " 'feature_names': ['MedInc',\n",
       "  'HouseAge',\n",
       "  'AveRooms',\n",
       "  'AveBedrms',\n",
       "  'Population',\n",
       "  'AveOccup',\n",
       "  'Latitude',\n",
       "  'Longitude'],\n",
       " 'DESCR': '.. _california_housing_dataset:\\n\\nCalifornia Housing dataset\\n--------------------------\\n\\n**Data Set Characteristics:**\\n\\n    :Number of Instances: 20640\\n\\n    :Number of Attributes: 8 numeric, predictive attributes and the target\\n\\n    :Attribute Information:\\n        - MedInc        median income in block group\\n        - HouseAge      median house age in block group\\n        - AveRooms      average number of rooms per household\\n        - AveBedrms     average number of bedrooms per household\\n        - Population    block group population\\n        - AveOccup      average number of household members\\n        - Latitude      block group latitude\\n        - Longitude     block group longitude\\n\\n    :Missing Attribute Values: None\\n\\nThis dataset was obtained from the StatLib repository.\\nhttps://www.dcc.fc.up.pt/~ltorgo/Regression/cal_housing.html\\n\\nThe target variable is the median house value for California districts,\\nexpressed in hundreds of thousands of dollars ($100,000).\\n\\nThis dataset was derived from the 1990 U.S. census, using one row per census\\nblock group. A block group is the smallest geographical unit for which the U.S.\\nCensus Bureau publishes sample data (a block group typically has a population\\nof 600 to 3,000 people).\\n\\nAn household is a group of people residing within a home. Since the average\\nnumber of rooms and bedrooms in this dataset are provided per household, these\\ncolumns may take surpinsingly large values for block groups with few households\\nand many empty houses, such as vacation resorts.\\n\\nIt can be downloaded/loaded using the\\n:func:`sklearn.datasets.fetch_california_housing` function.\\n\\n.. topic:: References\\n\\n    - Pace, R. Kelley and Ronald Barry, Sparse Spatial Autoregressions,\\n      Statistics and Probability Letters, 33 (1997) 291-297\\n'}"
      ]
     },
     "execution_count": 3,
     "metadata": {},
     "output_type": "execute_result"
    }
   ],
   "source": [
    "housing"
   ]
  },
  {
   "cell_type": "markdown",
   "id": "614c37ec",
   "metadata": {},
   "source": [
    "### Data Set Characteristics:\n",
    "\n",
    "##### Number of Instances:\n",
    " \t\n",
    "20640\n",
    "\n",
    "##### Number of Attributes:\n",
    " \t\n",
    "8 numeric, predictive attributes and the target\n",
    "\n",
    "##### Attribute Information:\n",
    " \t\n",
    "* MedInc median income in block\n",
    "* HouseAge median house age in block\n",
    "* AveRooms average number of rooms\n",
    "* AveBedrms average number of bedrooms\n",
    "* Population block population\n",
    "* AveOccup average house occupancy\n",
    "* Latitude house block latitude\n",
    "* Longitude house block longitude\n",
    "\n",
    "#### Target\n",
    "\n",
    "The target variable is the median house value in units of 100,000 for California districts.\n",
    "\n",
    "#### Documentation \n",
    "https://scikit-learn.org/stable/modules/generated/sklearn.datasets.fetch_california_housing.html#examples-using-sklearn-datasets-fetch-california-housing"
   ]
  },
  {
   "cell_type": "code",
   "execution_count": 4,
   "id": "3b0f89d6",
   "metadata": {},
   "outputs": [
    {
     "name": "stdout",
     "output_type": "stream",
     "text": [
      "['MedInc', 'HouseAge', 'AveRooms', 'AveBedrms', 'Population', 'AveOccup', 'Latitude', 'Longitude']\n"
     ]
    }
   ],
   "source": [
    "print(housing.feature_names)"
   ]
  },
  {
   "cell_type": "code",
   "execution_count": 5,
   "id": "2d449a72",
   "metadata": {},
   "outputs": [],
   "source": [
    "from sklearn.model_selection import train_test_split\n",
    "x_train_full,x_test_full,y_train_full,y_test=train_test_split(housing.data,housing.target,random_state=42)\n",
    "X_train,x_valid,Y_train,y_valid=train_test_split(x_train_full, y_train_full,random_state=42)"
   ]
  },
  {
   "cell_type": "code",
   "execution_count": 7,
   "id": "4248a2a6",
   "metadata": {},
   "outputs": [],
   "source": [
    "from sklearn.preprocessing import StandardScaler\n",
    "scaler=StandardScaler()\n",
    "x_train=scaler.fit_transform(X_train)\n",
    "x_valid=scaler.fit_transform(x_valid)\n",
    "x_test=scaler.fit_transform(x_test_full)\n"
   ]
  },
  {
   "cell_type": "code",
   "execution_count": 8,
   "id": "ff0bc3a6",
   "metadata": {},
   "outputs": [],
   "source": [
    "np.random.seed(42)\n",
    "tf.random.set_seed(42)"
   ]
  },
  {
   "cell_type": "code",
   "execution_count": 9,
   "id": "6b810a22",
   "metadata": {},
   "outputs": [
    {
     "data": {
      "text/plain": [
       "(11610, 8)"
      ]
     },
     "execution_count": 9,
     "metadata": {},
     "output_type": "execute_result"
    }
   ],
   "source": [
    "x_train.shape"
   ]
  },
  {
   "cell_type": "markdown",
   "id": "b06e7515",
   "metadata": {},
   "source": [
    "#### building model"
   ]
  },
  {
   "cell_type": "code",
   "execution_count": 16,
   "id": "4977423f",
   "metadata": {},
   "outputs": [],
   "source": [
    "model=keras.models.Sequential([\n",
    "    keras.layers.Dense(30,activation='relu',input_shape=[8]), # we haven't use flatten because we already have 1 d array as an input 8 as input_shape becasue we have 8 features\n",
    "    keras.layers.Dense(30,activation='relu'), ## next dense layer\n",
    "    keras.layers.Dense(1) ## #output layer as we want to predict a regression value\n",
    "    \n",
    "])"
   ]
  },
  {
   "cell_type": "code",
   "execution_count": 17,
   "id": "965ca5f8",
   "metadata": {},
   "outputs": [
    {
     "name": "stdout",
     "output_type": "stream",
     "text": [
      "Model: \"sequential_1\"\n",
      "_________________________________________________________________\n",
      " Layer (type)                Output Shape              Param #   \n",
      "=================================================================\n",
      " dense_3 (Dense)             (None, 30)                270       \n",
      "                                                                 \n",
      " dense_4 (Dense)             (None, 30)                930       \n",
      "                                                                 \n",
      " dense_5 (Dense)             (None, 1)                 31        \n",
      "                                                                 \n",
      "=================================================================\n",
      "Total params: 1,231\n",
      "Trainable params: 1,231\n",
      "Non-trainable params: 0\n",
      "_________________________________________________________________\n"
     ]
    }
   ],
   "source": [
    "model.summary()"
   ]
  },
  {
   "cell_type": "code",
   "execution_count": 20,
   "id": "299dd12a",
   "metadata": {},
   "outputs": [],
   "source": [
    "model.compile(loss=\"mean_squared_error\", \n",
    "              optimizer=keras.optimizers.SGD(lr=1e-3), \n",
    "              metrics=['mae'])"
   ]
  },
  {
   "cell_type": "code",
   "execution_count": 21,
   "id": "490edb65",
   "metadata": {},
   "outputs": [
    {
     "name": "stdout",
     "output_type": "stream",
     "text": [
      "Epoch 1/30\n",
      "363/363 [==============================] - 3s 7ms/step - loss: 2.1829 - mae: 1.0238 - val_loss: 0.8989 - val_mae: 0.6837\n",
      "Epoch 2/30\n",
      "363/363 [==============================] - 3s 7ms/step - loss: 0.8564 - mae: 0.6682 - val_loss: 0.7223 - val_mae: 0.6390\n",
      "Epoch 3/30\n",
      "363/363 [==============================] - 2s 6ms/step - loss: 0.6984 - mae: 0.6153 - val_loss: 0.6555 - val_mae: 0.6036\n",
      "Epoch 4/30\n",
      "363/363 [==============================] - 2s 7ms/step - loss: 0.6369 - mae: 0.5846 - val_loss: 0.6249 - val_mae: 0.5968\n",
      "Epoch 5/30\n",
      "363/363 [==============================] - 2s 5ms/step - loss: 0.5907 - mae: 0.5611 - val_loss: 0.5845 - val_mae: 0.5724\n",
      "Epoch 6/30\n",
      "363/363 [==============================] - 2s 5ms/step - loss: 0.5516 - mae: 0.5410 - val_loss: 0.5610 - val_mae: 0.5619\n",
      "Epoch 7/30\n",
      "363/363 [==============================] - 2s 4ms/step - loss: 0.5213 - mae: 0.5237 - val_loss: 0.5370 - val_mae: 0.5460\n",
      "Epoch 8/30\n",
      "363/363 [==============================] - 2s 5ms/step - loss: 0.4970 - mae: 0.5102 - val_loss: 0.5215 - val_mae: 0.5378\n",
      "Epoch 9/30\n",
      "363/363 [==============================] - 2s 4ms/step - loss: 0.4777 - mae: 0.4996 - val_loss: 0.5084 - val_mae: 0.5306\n",
      "Epoch 10/30\n",
      "363/363 [==============================] - 2s 4ms/step - loss: 0.4627 - mae: 0.4907 - val_loss: 0.4972 - val_mae: 0.5231\n",
      "Epoch 11/30\n",
      "363/363 [==============================] - 2s 4ms/step - loss: 0.4507 - mae: 0.4833 - val_loss: 0.4898 - val_mae: 0.5202\n",
      "Epoch 12/30\n",
      "363/363 [==============================] - 2s 4ms/step - loss: 0.4406 - mae: 0.4777 - val_loss: 0.4825 - val_mae: 0.5150\n",
      "Epoch 13/30\n",
      "363/363 [==============================] - 2s 5ms/step - loss: 0.4326 - mae: 0.4728 - val_loss: 0.4788 - val_mae: 0.5160\n",
      "Epoch 14/30\n",
      "363/363 [==============================] - 2s 4ms/step - loss: 0.4255 - mae: 0.4683 - val_loss: 0.4738 - val_mae: 0.5128\n",
      "Epoch 15/30\n",
      "363/363 [==============================] - 2s 5ms/step - loss: 0.4194 - mae: 0.4650 - val_loss: 0.4669 - val_mae: 0.5059\n",
      "Epoch 16/30\n",
      "363/363 [==============================] - 1s 4ms/step - loss: 0.4143 - mae: 0.4619 - val_loss: 0.4621 - val_mae: 0.5027\n",
      "Epoch 17/30\n",
      "363/363 [==============================] - 2s 5ms/step - loss: 0.4092 - mae: 0.4587 - val_loss: 0.4581 - val_mae: 0.4982\n",
      "Epoch 18/30\n",
      "363/363 [==============================] - 2s 4ms/step - loss: 0.4055 - mae: 0.4562 - val_loss: 0.4539 - val_mae: 0.4930\n",
      "Epoch 19/30\n",
      "363/363 [==============================] - 2s 5ms/step - loss: 0.4012 - mae: 0.4530 - val_loss: 0.4521 - val_mae: 0.4913\n",
      "Epoch 20/30\n",
      "363/363 [==============================] - 1s 4ms/step - loss: 0.3976 - mae: 0.4505 - val_loss: 0.4488 - val_mae: 0.4924\n",
      "Epoch 21/30\n",
      "363/363 [==============================] - 2s 5ms/step - loss: 0.3948 - mae: 0.4488 - val_loss: 0.4487 - val_mae: 0.4933\n",
      "Epoch 22/30\n",
      "363/363 [==============================] - 1s 4ms/step - loss: 0.3917 - mae: 0.4470 - val_loss: 0.4462 - val_mae: 0.4905\n",
      "Epoch 23/30\n",
      "363/363 [==============================] - 2s 4ms/step - loss: 0.3889 - mae: 0.4455 - val_loss: 0.4396 - val_mae: 0.4756\n",
      "Epoch 24/30\n",
      "363/363 [==============================] - 1s 4ms/step - loss: 0.3864 - mae: 0.4427 - val_loss: 0.4405 - val_mae: 0.4813\n",
      "Epoch 25/30\n",
      "363/363 [==============================] - 1s 4ms/step - loss: 0.3836 - mae: 0.4413 - val_loss: 0.4365 - val_mae: 0.4794\n",
      "Epoch 26/30\n",
      "363/363 [==============================] - 1s 4ms/step - loss: 0.3815 - mae: 0.4399 - val_loss: 0.4336 - val_mae: 0.4779\n",
      "Epoch 27/30\n",
      "363/363 [==============================] - 1s 4ms/step - loss: 0.3798 - mae: 0.4387 - val_loss: 0.4313 - val_mae: 0.4721\n",
      "Epoch 28/30\n",
      "363/363 [==============================] - 1s 4ms/step - loss: 0.3776 - mae: 0.4367 - val_loss: 0.4337 - val_mae: 0.4794\n",
      "Epoch 29/30\n",
      "363/363 [==============================] - 1s 4ms/step - loss: 0.3760 - mae: 0.4359 - val_loss: 0.4296 - val_mae: 0.4746\n",
      "Epoch 30/30\n",
      "363/363 [==============================] - 1s 4ms/step - loss: 0.3739 - mae: 0.4346 - val_loss: 0.4303 - val_mae: 0.4727\n"
     ]
    }
   ],
   "source": [
    "model_history=model.fit(x_train,Y_train,epochs=30,validation_data=(x_valid,y_valid))"
   ]
  },
  {
   "cell_type": "code",
   "execution_count": 24,
   "id": "8dd635e3",
   "metadata": {},
   "outputs": [
    {
     "name": "stdout",
     "output_type": "stream",
     "text": [
      "162/162 [==============================] - 0s 2ms/step - loss: 0.3794 - mae: 0.4473\n"
     ]
    },
    {
     "data": {
      "text/plain": [
       "[0.37937143445014954, 0.4473344087600708]"
      ]
     },
     "execution_count": 24,
     "metadata": {},
     "output_type": "execute_result"
    }
   ],
   "source": [
    "model_evaluate=model.evaluate(x_test,y_test)\n",
    "model_evaluate"
   ]
  },
  {
   "cell_type": "code",
   "execution_count": 27,
   "id": "1ae95ccc",
   "metadata": {},
   "outputs": [
    {
     "data": {
      "text/html": [
       "<div>\n",
       "<style scoped>\n",
       "    .dataframe tbody tr th:only-of-type {\n",
       "        vertical-align: middle;\n",
       "    }\n",
       "\n",
       "    .dataframe tbody tr th {\n",
       "        vertical-align: top;\n",
       "    }\n",
       "\n",
       "    .dataframe thead th {\n",
       "        text-align: right;\n",
       "    }\n",
       "</style>\n",
       "<table border=\"1\" class=\"dataframe\">\n",
       "  <thead>\n",
       "    <tr style=\"text-align: right;\">\n",
       "      <th></th>\n",
       "      <th>loss</th>\n",
       "      <th>mae</th>\n",
       "      <th>val_loss</th>\n",
       "      <th>val_mae</th>\n",
       "    </tr>\n",
       "  </thead>\n",
       "  <tbody>\n",
       "    <tr>\n",
       "      <th>0</th>\n",
       "      <td>2.182945</td>\n",
       "      <td>1.023833</td>\n",
       "      <td>0.898879</td>\n",
       "      <td>0.683700</td>\n",
       "    </tr>\n",
       "    <tr>\n",
       "      <th>1</th>\n",
       "      <td>0.856369</td>\n",
       "      <td>0.668232</td>\n",
       "      <td>0.722277</td>\n",
       "      <td>0.639008</td>\n",
       "    </tr>\n",
       "    <tr>\n",
       "      <th>2</th>\n",
       "      <td>0.698385</td>\n",
       "      <td>0.615325</td>\n",
       "      <td>0.655547</td>\n",
       "      <td>0.603638</td>\n",
       "    </tr>\n",
       "    <tr>\n",
       "      <th>3</th>\n",
       "      <td>0.636872</td>\n",
       "      <td>0.584647</td>\n",
       "      <td>0.624923</td>\n",
       "      <td>0.596787</td>\n",
       "    </tr>\n",
       "    <tr>\n",
       "      <th>4</th>\n",
       "      <td>0.590663</td>\n",
       "      <td>0.561122</td>\n",
       "      <td>0.584493</td>\n",
       "      <td>0.572405</td>\n",
       "    </tr>\n",
       "    <tr>\n",
       "      <th>5</th>\n",
       "      <td>0.551595</td>\n",
       "      <td>0.540952</td>\n",
       "      <td>0.560997</td>\n",
       "      <td>0.561857</td>\n",
       "    </tr>\n",
       "    <tr>\n",
       "      <th>6</th>\n",
       "      <td>0.521343</td>\n",
       "      <td>0.523705</td>\n",
       "      <td>0.536978</td>\n",
       "      <td>0.545966</td>\n",
       "    </tr>\n",
       "    <tr>\n",
       "      <th>7</th>\n",
       "      <td>0.497006</td>\n",
       "      <td>0.510157</td>\n",
       "      <td>0.521483</td>\n",
       "      <td>0.537789</td>\n",
       "    </tr>\n",
       "    <tr>\n",
       "      <th>8</th>\n",
       "      <td>0.477749</td>\n",
       "      <td>0.499634</td>\n",
       "      <td>0.508443</td>\n",
       "      <td>0.530631</td>\n",
       "    </tr>\n",
       "    <tr>\n",
       "      <th>9</th>\n",
       "      <td>0.462703</td>\n",
       "      <td>0.490663</td>\n",
       "      <td>0.497249</td>\n",
       "      <td>0.523055</td>\n",
       "    </tr>\n",
       "    <tr>\n",
       "      <th>10</th>\n",
       "      <td>0.450657</td>\n",
       "      <td>0.483258</td>\n",
       "      <td>0.489841</td>\n",
       "      <td>0.520243</td>\n",
       "    </tr>\n",
       "    <tr>\n",
       "      <th>11</th>\n",
       "      <td>0.440591</td>\n",
       "      <td>0.477683</td>\n",
       "      <td>0.482496</td>\n",
       "      <td>0.514977</td>\n",
       "    </tr>\n",
       "    <tr>\n",
       "      <th>12</th>\n",
       "      <td>0.432610</td>\n",
       "      <td>0.472774</td>\n",
       "      <td>0.478800</td>\n",
       "      <td>0.515952</td>\n",
       "    </tr>\n",
       "    <tr>\n",
       "      <th>13</th>\n",
       "      <td>0.425501</td>\n",
       "      <td>0.468325</td>\n",
       "      <td>0.473759</td>\n",
       "      <td>0.512773</td>\n",
       "    </tr>\n",
       "    <tr>\n",
       "      <th>14</th>\n",
       "      <td>0.419450</td>\n",
       "      <td>0.465047</td>\n",
       "      <td>0.466873</td>\n",
       "      <td>0.505884</td>\n",
       "    </tr>\n",
       "    <tr>\n",
       "      <th>15</th>\n",
       "      <td>0.414342</td>\n",
       "      <td>0.461880</td>\n",
       "      <td>0.462095</td>\n",
       "      <td>0.502652</td>\n",
       "    </tr>\n",
       "    <tr>\n",
       "      <th>16</th>\n",
       "      <td>0.409209</td>\n",
       "      <td>0.458672</td>\n",
       "      <td>0.458092</td>\n",
       "      <td>0.498244</td>\n",
       "    </tr>\n",
       "    <tr>\n",
       "      <th>17</th>\n",
       "      <td>0.405531</td>\n",
       "      <td>0.456202</td>\n",
       "      <td>0.453877</td>\n",
       "      <td>0.493004</td>\n",
       "    </tr>\n",
       "    <tr>\n",
       "      <th>18</th>\n",
       "      <td>0.401213</td>\n",
       "      <td>0.452974</td>\n",
       "      <td>0.452053</td>\n",
       "      <td>0.491347</td>\n",
       "    </tr>\n",
       "    <tr>\n",
       "      <th>19</th>\n",
       "      <td>0.397627</td>\n",
       "      <td>0.450544</td>\n",
       "      <td>0.448790</td>\n",
       "      <td>0.492433</td>\n",
       "    </tr>\n",
       "    <tr>\n",
       "      <th>20</th>\n",
       "      <td>0.394811</td>\n",
       "      <td>0.448754</td>\n",
       "      <td>0.448704</td>\n",
       "      <td>0.493322</td>\n",
       "    </tr>\n",
       "    <tr>\n",
       "      <th>21</th>\n",
       "      <td>0.391704</td>\n",
       "      <td>0.446998</td>\n",
       "      <td>0.446204</td>\n",
       "      <td>0.490532</td>\n",
       "    </tr>\n",
       "    <tr>\n",
       "      <th>22</th>\n",
       "      <td>0.388879</td>\n",
       "      <td>0.445462</td>\n",
       "      <td>0.439646</td>\n",
       "      <td>0.475647</td>\n",
       "    </tr>\n",
       "    <tr>\n",
       "      <th>23</th>\n",
       "      <td>0.386390</td>\n",
       "      <td>0.442718</td>\n",
       "      <td>0.440457</td>\n",
       "      <td>0.481315</td>\n",
       "    </tr>\n",
       "    <tr>\n",
       "      <th>24</th>\n",
       "      <td>0.383610</td>\n",
       "      <td>0.441299</td>\n",
       "      <td>0.436493</td>\n",
       "      <td>0.479387</td>\n",
       "    </tr>\n",
       "    <tr>\n",
       "      <th>25</th>\n",
       "      <td>0.381484</td>\n",
       "      <td>0.439866</td>\n",
       "      <td>0.433561</td>\n",
       "      <td>0.477889</td>\n",
       "    </tr>\n",
       "    <tr>\n",
       "      <th>26</th>\n",
       "      <td>0.379798</td>\n",
       "      <td>0.438662</td>\n",
       "      <td>0.431313</td>\n",
       "      <td>0.472064</td>\n",
       "    </tr>\n",
       "    <tr>\n",
       "      <th>27</th>\n",
       "      <td>0.377557</td>\n",
       "      <td>0.436713</td>\n",
       "      <td>0.433686</td>\n",
       "      <td>0.479404</td>\n",
       "    </tr>\n",
       "    <tr>\n",
       "      <th>28</th>\n",
       "      <td>0.376047</td>\n",
       "      <td>0.435917</td>\n",
       "      <td>0.429603</td>\n",
       "      <td>0.474619</td>\n",
       "    </tr>\n",
       "    <tr>\n",
       "      <th>29</th>\n",
       "      <td>0.373937</td>\n",
       "      <td>0.434609</td>\n",
       "      <td>0.430254</td>\n",
       "      <td>0.472709</td>\n",
       "    </tr>\n",
       "  </tbody>\n",
       "</table>\n",
       "</div>"
      ],
      "text/plain": [
       "        loss       mae  val_loss   val_mae\n",
       "0   2.182945  1.023833  0.898879  0.683700\n",
       "1   0.856369  0.668232  0.722277  0.639008\n",
       "2   0.698385  0.615325  0.655547  0.603638\n",
       "3   0.636872  0.584647  0.624923  0.596787\n",
       "4   0.590663  0.561122  0.584493  0.572405\n",
       "5   0.551595  0.540952  0.560997  0.561857\n",
       "6   0.521343  0.523705  0.536978  0.545966\n",
       "7   0.497006  0.510157  0.521483  0.537789\n",
       "8   0.477749  0.499634  0.508443  0.530631\n",
       "9   0.462703  0.490663  0.497249  0.523055\n",
       "10  0.450657  0.483258  0.489841  0.520243\n",
       "11  0.440591  0.477683  0.482496  0.514977\n",
       "12  0.432610  0.472774  0.478800  0.515952\n",
       "13  0.425501  0.468325  0.473759  0.512773\n",
       "14  0.419450  0.465047  0.466873  0.505884\n",
       "15  0.414342  0.461880  0.462095  0.502652\n",
       "16  0.409209  0.458672  0.458092  0.498244\n",
       "17  0.405531  0.456202  0.453877  0.493004\n",
       "18  0.401213  0.452974  0.452053  0.491347\n",
       "19  0.397627  0.450544  0.448790  0.492433\n",
       "20  0.394811  0.448754  0.448704  0.493322\n",
       "21  0.391704  0.446998  0.446204  0.490532\n",
       "22  0.388879  0.445462  0.439646  0.475647\n",
       "23  0.386390  0.442718  0.440457  0.481315\n",
       "24  0.383610  0.441299  0.436493  0.479387\n",
       "25  0.381484  0.439866  0.433561  0.477889\n",
       "26  0.379798  0.438662  0.431313  0.472064\n",
       "27  0.377557  0.436713  0.433686  0.479404\n",
       "28  0.376047  0.435917  0.429603  0.474619\n",
       "29  0.373937  0.434609  0.430254  0.472709"
      ]
     },
     "execution_count": 27,
     "metadata": {},
     "output_type": "execute_result"
    }
   ],
   "source": [
    "pd.DataFrame(model_history.history) ## to get what are the KPI values in each run of epocs "
   ]
  },
  {
   "cell_type": "code",
   "execution_count": 28,
   "id": "9fdbb5b1",
   "metadata": {},
   "outputs": [
    {
     "data": {
      "image/png": "[encoded data removed]",
      "text/plain": [
       "<Figure size 800x500 with 1 Axes>"
      ]
     },
     "metadata": {},
     "output_type": "display_data"
    }
   ],
   "source": [
    "pd.DataFrame(model_history.history).plot(figsize=(8, 5))\n",
    "plt.grid(True)\n",
    "plt.gca().set_ylim(0, 1)\n",
    "\n",
    "plt.show()"
   ]
  },
  {
   "cell_type": "code",
   "execution_count": 30,
   "id": "7013a7b7",
   "metadata": {},
   "outputs": [
    {
     "data": {
      "text/plain": [
       "array([[-1.14772246, -0.3014276 , -0.46356103, -0.13026842, -0.0249129 ,\n",
       "         0.56243986,  0.22075674,  0.2580042 ],\n",
       "       [-0.69738315,  0.09834786, -0.14086589,  0.17205266,  0.13229717,\n",
       "        -0.17390163, -0.20888265,  0.0337006 ],\n",
       "       [-0.19475766,  1.85735988, -0.54547279,  0.15860488, -0.09942866,\n",
       "        -0.98514082,  1.03333558, -1.45168768]])"
      ]
     },
     "execution_count": 30,
     "metadata": {},
     "output_type": "execute_result"
    }
   ],
   "source": [
    "### prediction only for few x_test values \n",
    "x_new=x_test[:3]\n",
    "x_new"
   ]
  },
  {
   "cell_type": "code",
   "execution_count": 33,
   "id": "b39f611e",
   "metadata": {},
   "outputs": [
    {
     "name": "stdout",
     "output_type": "stream",
     "text": [
      "1/1 [==============================] - 0s 29ms/step\n",
      "[[0.70641863]\n",
      " [1.7963738 ]\n",
      " [4.0170426 ]]\n"
     ]
    }
   ],
   "source": [
    "y_pred=model.predict(x_new)\n",
    "print(y_pred)## now check it with the actual values of y_test in the nextcell"
   ]
  },
  {
   "cell_type": "code",
   "execution_count": 32,
   "id": "e93575b3",
   "metadata": {},
   "outputs": [
    {
     "name": "stdout",
     "output_type": "stream",
     "text": [
      "[0.477   0.458   5.00001]\n"
     ]
    }
   ],
   "source": [
    "print(y_test[:3])"
   ]
  },
  {
   "cell_type": "code",
   "execution_count": null,
   "id": "d4cce6bd",
   "metadata": {},
   "outputs": [],
   "source": []
  },
  {
   "cell_type": "code",
   "execution_count": null,
   "id": "e2bd78f5",
   "metadata": {},
   "outputs": [],
   "source": []
  },
  {
   "cell_type": "code",
   "execution_count": null,
   "id": "50f675ca",
   "metadata": {},
   "outputs": [],
   "source": []
  },
  {
   "cell_type": "code",
   "execution_count": null,
   "id": "41cda941",
   "metadata": {},
   "outputs": [],
   "source": []
  },
  {
   "cell_type": "code",
   "execution_count": null,
   "id": "8dea0dea",
   "metadata": {},
   "outputs": [],
   "source": []
  },
  {
   "cell_type": "code",
   "execution_count": null,
   "id": "ca09333d",
   "metadata": {},
   "outputs": [],
   "source": []
  },
  {
   "cell_type": "code",
   "execution_count": null,
   "id": "9ae93600",
   "metadata": {},
   "outputs": [],
   "source": []
  },
  {
   "cell_type": "code",
   "execution_count": null,
   "id": "80a728ac",
   "metadata": {},
   "outputs": [],
   "source": []
  },
  {
   "cell_type": "code",
   "execution_count": null,
   "id": "a08e1a2c",
   "metadata": {},
   "outputs": [],
   "source": []
  },
  {
   "cell_type": "code",
   "execution_count": null,
   "id": "f4fc5170",
   "metadata": {},
   "outputs": [],
   "source": []
  },
  {
   "cell_type": "code",
   "execution_count": null,
   "id": "ccfb3f87",
   "metadata": {},
   "outputs": [],
   "source": []
  },
  {
   "cell_type": "code",
   "execution_count": null,
   "id": "fa0fd9d9",
   "metadata": {},
   "outputs": [],
   "source": []
  },
  {
   "cell_type": "code",
   "execution_count": null,
   "id": "e74ab720",
   "metadata": {},
   "outputs": [],
   "source": []
  }
 ],
 "metadata": {
  "kernelspec": {
   "display_name": "Python 3 (ipykernel)",
   "language": "python",
   "name": "python3"
  },
  "language_info": {
   "codemirror_mode": {
    "name": "ipython",
    "version": 3
   },
   "file_extension": ".py",
   "mimetype": "text/x-python",
   "name": "python",
   "nbconvert_exporter": "python",
   "pygments_lexer": "ipython3",
   "version": "3.10.9"
  }
 },
 "nbformat": 4,
 "nbformat_minor": 5
}
